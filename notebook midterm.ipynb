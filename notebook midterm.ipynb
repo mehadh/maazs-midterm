{
  "cells": [
    {
      "cell_type": "markdown",
      "metadata": {
        "id": "4lM2TiSeZJYD"
      },
      "source": [
        "# Libraries"
      ]
    },
    {
      "cell_type": "code",
      "execution_count": 25,
      "metadata": {
        "id": "iswGsO_KZJYE"
      },
      "outputs": [],
      "source": [
        "import pickle\n",
        "import pandas as pd\n",
        "import seaborn as sns\n",
        "from os.path import exists\n",
        "import matplotlib.pyplot as plt\n",
        "from sklearn.model_selection import train_test_split\n",
        "from sklearn.metrics import accuracy_score, confusion_matrix\n",
        "from sklearn.feature_extraction.text import TfidfVectorizer\n",
        "from scipy.sparse import hstack\n",
        "from sklearn.linear_model import Perceptron\n",
        "from google.colab import drive"
      ]
    },
    {
      "cell_type": "markdown",
      "metadata": {
        "id": "M9QECZp0ZJYF"
      },
      "source": [
        "# Loading the Files\n",
        "\n",
        "Download the csv files into the `data/` directory."
      ]
    },
    {
      "cell_type": "code",
      "execution_count": 18,
      "metadata": {
        "colab": {
          "base_uri": "https://localhost:8080/",
          "height": 1000
        },
        "id": "NL6ung1gZJYF",
        "outputId": "3bc79a0b-a44e-45b0-f722-ac4c5f1e8419"
      },
      "outputs": [
        {
          "name": "stdout",
          "output_type": "stream",
          "text": [
            "Drive already mounted at /content/drive; to attempt to forcibly remount, call drive.mount(\"/content/drive\", force_remount=True).\n",
            "train.csv shape is  (1697533, 9)\n",
            "test.csv shape is  (212192, 2)\n",
            "\n",
            "        Id   ProductId          UserId  HelpfulnessNumerator  \\\n",
            "0   914403  B0009W5KHM   AV6QDP8Q0ONK4                     2   \n",
            "1   354887  6303079709  A2I8RXJN80A2D2                     0   \n",
            "2  1407653  B004H0M2XC  A3FHV3RV8Z12E6                     0   \n",
            "3  1377458  B003ZJ9536  A12VLTA3ZHVPUY                     1   \n",
            "4   475323  630574453X  A13NM1PES9OXVN                     2   \n",
            "\n",
            "   HelpfulnessDenominator        Time  \\\n",
            "0                       2  1341014400   \n",
            "1                       0  1168819200   \n",
            "2                       0  1386201600   \n",
            "3                       1  1348704000   \n",
            "4                       3   970012800   \n",
            "\n",
            "                                         Summary  \\\n",
            "0                                  GOOD FUN FILM   \n",
            "1                                   Movie Review   \n",
            "2             When is it a good time to Consent?   \n",
            "3                                          TRUTH   \n",
            "4  Intelligent and bittersweet -- stays with you   \n",
            "\n",
            "                                                Text  Score  \n",
            "0  While most straight to DVD films are not worth...    5.0  \n",
            "1  I have wanted this one for sometime, also.  I ...    5.0  \n",
            "2  Actually this was a pretty darn good indie fil...    4.0  \n",
            "3  Episodes 37 to 72 of the series press on in a ...    5.0  \n",
            "4  I was really impressed with this movie, but wa...    3.0  \n",
            "\n",
            "        Id  Score\n",
            "0  1323432    NaN\n",
            "1  1137299    NaN\n",
            "2  1459366    NaN\n",
            "3   931601    NaN\n",
            "4  1311995    NaN\n",
            "\n",
            "                 Id  HelpfulnessNumerator  HelpfulnessDenominator  \\\n",
            "count  1.697533e+06          1.697533e+06            1.697533e+06   \n",
            "mean   8.487660e+05          3.569048e+00            5.301422e+00   \n",
            "std    4.900357e+05          1.727883e+01            2.024445e+01   \n",
            "min    0.000000e+00          0.000000e+00            0.000000e+00   \n",
            "25%    4.243830e+05          0.000000e+00            0.000000e+00   \n",
            "50%    8.487660e+05          1.000000e+00            1.000000e+00   \n",
            "75%    1.273149e+06          3.000000e+00            5.000000e+00   \n",
            "max    1.697532e+06          6.084000e+03            6.510000e+03   \n",
            "\n",
            "               Time         Score  \n",
            "count  1.697533e+06  1.485341e+06  \n",
            "mean   1.262422e+09  4.110517e+00  \n",
            "std    1.289277e+08  1.197651e+00  \n",
            "min    8.793792e+08  1.000000e+00  \n",
            "25%    1.164413e+09  4.000000e+00  \n",
            "50%    1.307491e+09  5.000000e+00  \n",
            "75%    1.373242e+09  5.000000e+00  \n",
            "max    1.406074e+09  5.000000e+00  \n"
          ]
        },
        {
          "data": {
            "image/png": "[encoded data removed]",
            "text/plain": [
              "<Figure size 640x480 with 1 Axes>"
            ]
          },
          "metadata": {},
          "output_type": "display_data"
        },
        {
          "name": "stdout",
          "output_type": "stream",
          "text": [
            "\n",
            "EVERYTHING IS PROPERLY SET UP! YOU ARE READY TO START\n"
          ]
        }
      ],
      "source": [
        "drive.mount('/content/drive')\n",
        "trainingSet = pd.read_csv(\"/content/drive/My Drive/train.csv\")\n",
        "testingSet = pd.read_csv(\"/content/drive/My Drive/test.csv\")\n",
        "\n",
        "print(\"train.csv shape is \", trainingSet.shape)\n",
        "print(\"test.csv shape is \", testingSet.shape)\n",
        "\n",
        "print()\n",
        "\n",
        "print(trainingSet.head())\n",
        "print()\n",
        "print(testingSet.head())\n",
        "\n",
        "print()\n",
        "\n",
        "print(trainingSet.describe())\n",
        "\n",
        "trainingSet['Score'].value_counts().plot(kind='bar', legend=True, alpha=.5)\n",
        "plt.show()\n",
        "\n",
        "print()\n",
        "print(\"EVERYTHING IS PROPERLY SET UP! YOU ARE READY TO START\")"
      ]
    },
    {
      "cell_type": "markdown",
      "metadata": {
        "id": "vdy9viQZZJYF"
      },
      "source": [
        "# Adding Features"
      ]
    },
    {
      "cell_type": "code",
      "execution_count": 19,
      "metadata": {
        "id": "174cwDyXZJYF"
      },
      "outputs": [],
      "source": [
        "def add_features_to(df):\n",
        "    # This is where you can do all your feature extraction\n",
        "\n",
        "    df['Helpfulness'] = df['HelpfulnessNumerator'] / (df['HelpfulnessDenominator'] + 1)\n",
        "    df['Helpfulness'] = df['Helpfulness'].fillna(0)\n",
        "\n",
        "    return df\n",
        "\n",
        "# Load the feature extracted files if they've already been generated\n",
        "if exists('/content/drive/My Drive/X_train.csv'):\n",
        "    X_train = pd.read_csv(\"/content/drive/My Drive/X_train.csv\")\n",
        "if exists('/content/drive/My Drive/X_submission.csv'):\n",
        "    X_submission = pd.read_csv(\"/content/drive/My Drive/X_submission.csv\")\n",
        "\n",
        "else:\n",
        "    # Process the DataFrame\n",
        "    train = add_features_to(trainingSet)\n",
        "\n",
        "    # Merge on Id so that the submission set can have feature columns as well\n",
        "    X_submission = pd.merge(train, testingSet, left_on='Id', right_on='Id')\n",
        "    X_submission = X_submission.drop(columns=['Score_x'])\n",
        "    X_submission = X_submission.rename(columns={'Score_y': 'Score'})\n",
        "\n",
        "    # The training set is where the score is not null\n",
        "    X_train =  train[train['Score'].notnull()]\n",
        "\n",
        "    X_submission.to_csv(\"/content/drive/My Drive/X_submission.csv\", index=False)\n",
        "    X_train.to_csv(\"/content/drive/My Drive/X_train.csv\", index=False)"
      ]
    },
    {
      "cell_type": "markdown",
      "metadata": {
        "id": "lVDYW6nJZJYG"
      },
      "source": [
        "# Sample + Split into training and testing set"
      ]
    },
    {
      "cell_type": "code",
      "execution_count": 20,
      "metadata": {
        "id": "YMiCaW9MZJYG"
      },
      "outputs": [],
      "source": [
        "# Split training set into training and testing set\n",
        "X_train, X_test, Y_train, Y_test = train_test_split(\n",
        "    X_train.drop(columns=['Score']),\n",
        "    X_train['Score'],\n",
        "    test_size=1/4.0,\n",
        "    random_state=0\n",
        ")"
      ]
    },
    {
      "cell_type": "markdown",
      "metadata": {
        "id": "q6Je6N7vZJYG"
      },
      "source": [
        "# Feature Selection"
      ]
    },
    {
      "cell_type": "code",
      "execution_count": 26,
      "metadata": {
        "colab": {
          "base_uri": "https://localhost:8080/"
        },
        "id": "qsdRFSDqZJYG",
        "outputId": "527726b3-146a-4089-e9ae-7e4f59f647a0"
      },
      "outputs": [
        {
          "name": "stderr",
          "output_type": "stream",
          "text": [
            "<ipython-input-26-4d7af56ad6aa>:5: SettingWithCopyWarning: \n",
            "A value is trying to be set on a copy of a slice from a DataFrame.\n",
            "Try using .loc[row_indexer,col_indexer] = value instead\n",
            "\n",
            "See the caveats in the documentation: https://pandas.pydata.org/pandas-docs/stable/user_guide/indexing.html#returning-a-view-versus-a-copy\n",
            "  df['Combined_Text'] = orig_df['Summary'].fillna('') + ' ' + orig_df['Text'].fillna('')\n",
            "<ipython-input-26-4d7af56ad6aa>:5: SettingWithCopyWarning: \n",
            "A value is trying to be set on a copy of a slice from a DataFrame.\n",
            "Try using .loc[row_indexer,col_indexer] = value instead\n",
            "\n",
            "See the caveats in the documentation: https://pandas.pydata.org/pandas-docs/stable/user_guide/indexing.html#returning-a-view-versus-a-copy\n",
            "  df['Combined_Text'] = orig_df['Summary'].fillna('') + ' ' + orig_df['Text'].fillna('')\n",
            "<ipython-input-26-4d7af56ad6aa>:5: SettingWithCopyWarning: \n",
            "A value is trying to be set on a copy of a slice from a DataFrame.\n",
            "Try using .loc[row_indexer,col_indexer] = value instead\n",
            "\n",
            "See the caveats in the documentation: https://pandas.pydata.org/pandas-docs/stable/user_guide/indexing.html#returning-a-view-versus-a-copy\n",
            "  df['Combined_Text'] = orig_df['Summary'].fillna('') + ' ' + orig_df['Text'].fillna('')\n"
          ]
        }
      ],
      "source": [
        "# ta3reef w ta7deed il-features il-mohemma\n",
        "features = ['HelpfulnessNumerator', 'HelpfulnessDenominator', 'Time', 'Helpfulness', 'Text']\n",
        "X_train_select, X_test_select, X_submission_select = (df[features] for df in [X_train, X_test, X_submission])\n",
        "for df, orig_df in zip([X_train_select, X_test_select, X_submission_select], [X_train, X_test, X_submission]):\n",
        "    df['Combined_Text'] = orig_df['Summary'].fillna('') + ' ' + orig_df['Text'].fillna('')\n",
        "# ta7deer w tatbeeq TfidfVectorizer, 300k = 0.56799, 262144 = 0.58602, 0.62\n",
        "#vectorizer = TfidfVectorizer(max_features=300000, stop_words='english', ngram_range=(1, 2))\n",
        "vectorizer = TfidfVectorizer(max_features=262144, stop_words='english', ngram_range=(1, 2))\n",
        "X_train_text, X_test_text, X_submission_text = (vectorizer.fit_transform(X_train_select['Combined_Text']),vectorizer.transform(X_test_select['Combined_Text']),vectorizer.transform(X_submission_select['Combined_Text']))\n",
        "X_train_help, X_test_help, X_submission_help = (df[['Helpfulness']].fillna(0).to_numpy().repeat(2, axis=1) for df in [X_train_select, X_test_select, X_submission_select])\n",
        "# dmj features il-nass ma3 features 'Helpfulness' l kol dataset\n",
        "X_train_combined, X_test_combined, X_submission_combined = (hstack([text, help_matrix]) for text, help_matrix in zip([X_train_text, X_test_text, X_submission_text],[X_train_help, X_test_help, X_submission_help]))"
      ]
    },
    {
      "cell_type": "markdown",
      "metadata": {
        "id": "HPnCwaD2ZJYH"
      },
      "source": [
        "# Model Creation"
      ]
    },
    {
      "cell_type": "code",
      "execution_count": 27,
      "metadata": {
        "id": "ukGatN9F4L4I"
      },
      "outputs": [],
      "source": [
        "model = Perceptron(\n",
        "    max_iter=3500,\n",
        "    tol=1e-4,\n",
        "    n_jobs=-1          # Use all CPU cores\n",
        ")\n",
        "# sora3at il-training w istikhdam 2all lil memory\n",
        "model.fit(X_train_combined, Y_train)\n",
        "Y_test_predictions = model.predict(X_test_combined)"
      ]
    },
    {
      "cell_type": "markdown",
      "metadata": {
        "id": "HVs4rkf9ZJYH"
      },
      "source": [
        "# Model Evaluation"
      ]
    },
    {
      "cell_type": "code",
      "execution_count": 28,
      "metadata": {
        "colab": {
          "base_uri": "https://localhost:8080/",
          "height": 489
        },
        "id": "7XaXC4jPZJYH",
        "outputId": "839a9148-6545-4c65-b8d7-8bdaeb3cb236"
      },
      "outputs": [
        {
          "name": "stdout",
          "output_type": "stream",
          "text": [
            "Accuracy on testing set =  0.5718675269836482\n"
          ]
        },
        {
          "data": {
            "image/png": "[encoded data removed]",
            "text/plain": [
              "<Figure size 640x480 with 2 Axes>"
            ]
          },
          "metadata": {},
          "output_type": "display_data"
        }
      ],
      "source": [
        "# Evaluate your model on the testing set\n",
        "print(\"Accuracy on testing set = \", accuracy_score(Y_test, Y_test_predictions))\n",
        "\n",
        "# Plot a confusion matrix\n",
        "cm = confusion_matrix(Y_test, Y_test_predictions, normalize='true')\n",
        "sns.heatmap(cm, annot=True)\n",
        "plt.title('Confusion matrix of the classifier')\n",
        "plt.xlabel('Predicted')\n",
        "plt.ylabel('True')\n",
        "plt.show()"
      ]
    },
    {
      "cell_type": "markdown",
      "metadata": {
        "id": "N-NZzAolZJYI"
      },
      "source": [
        "# Create submission file"
      ]
    },
    {
      "cell_type": "code",
      "execution_count": 24,
      "metadata": {
        "id": "y1FKGZggZJYI"
      },
      "outputs": [],
      "source": [
        "# Create the submission fdt_\n",
        "X_submission['Score'] = model.predict(X_submission_combined)\n",
        "submission = X_submission[['Id', 'Score']]\n",
        "submission.to_csv(\"/content/drive/My Drive/submission.csv\", index=False)"
      ]
    }
  ],
  "metadata": {
    "accelerator": "TPU",
    "colab": {
      "gpuType": "V28",
      "machine_shape": "hm",
      "provenance": []
    },
    "kernelspec": {
      "display_name": "Python 3",
      "name": "python3"
    },
    "language_info": {
      "codemirror_mode": {
        "name": "ipython",
        "version": 3
      },
      "file_extension": ".py",
      "mimetype": "text/x-python",
      "name": "python",
      "nbconvert_exporter": "python",
      "pygments_lexer": "ipython3",
      "version": "3.12.3"
    }
  },
  "nbformat": 4,
  "nbformat_minor": 0
}
